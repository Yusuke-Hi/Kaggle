{
 "cells": [
  {
   "cell_type": "markdown",
   "id": "3f537a99",
   "metadata": {
    "papermill": {
     "duration": 0.017741,
     "end_time": "2024-08-06T01:11:18.456953",
     "exception": false,
     "start_time": "2024-08-06T01:11:18.439212",
     "status": "completed"
    },
    "tags": []
   },
   "source": [
    "# <span><h1 style = \"font-family: garamond; font-size: 40px; font-style: normal; letter-spcaing: 3px; background-color: #f6f5f5; color :#fe346e; border-radius: 100px 100px; text-align:center\">Import Required Libraries 📚</h1></span>"
   ]
  },
  {
   "cell_type": "code",
   "execution_count": 1,
   "id": "2b9f3d6f",
   "metadata": {
    "execution": {
     "iopub.execute_input": "2024-08-06T01:11:18.491489Z",
     "iopub.status.busy": "2024-08-06T01:11:18.490713Z",
     "iopub.status.idle": "2024-08-06T01:11:33.742053Z",
     "shell.execute_reply": "2024-08-06T01:11:33.741076Z"
    },
    "papermill": {
     "duration": 15.270997,
     "end_time": "2024-08-06T01:11:33.744382",
     "exception": false,
     "start_time": "2024-08-06T01:11:18.473385",
     "status": "completed"
    },
    "tags": []
   },
   "outputs": [
    {
     "name": "stdout",
     "output_type": "stream",
     "text": [
      "Collecting torcheval\r\n",
      "  Downloading torcheval-0.0.7-py3-none-any.whl.metadata (8.6 kB)\r\n",
      "Requirement already satisfied: typing-extensions in /opt/conda/lib/python3.10/site-packages (from torcheval) (4.9.0)\r\n",
      "Downloading torcheval-0.0.7-py3-none-any.whl (179 kB)\r\n",
      "\u001b[2K   \u001b[90m━━━━━━━━━━━━━━━━━━━━━━━━━━━━━━━━━━━━━━━━\u001b[0m \u001b[32m179.2/179.2 kB\u001b[0m \u001b[31m3.4 MB/s\u001b[0m eta \u001b[36m0:00:00\u001b[0m\r\n",
      "\u001b[?25hInstalling collected packages: torcheval\r\n",
      "Successfully installed torcheval-0.0.7\r\n"
     ]
    }
   ],
   "source": [
    "!pip install torcheval"
   ]
  },
  {
   "cell_type": "code",
   "execution_count": 2,
   "id": "0a491be1",
   "metadata": {
    "execution": {
     "iopub.execute_input": "2024-08-06T01:11:33.777416Z",
     "iopub.status.busy": "2024-08-06T01:11:33.776681Z",
     "iopub.status.idle": "2024-08-06T01:11:44.347385Z",
     "shell.execute_reply": "2024-08-06T01:11:44.346427Z"
    },
    "papermill": {
     "duration": 10.590472,
     "end_time": "2024-08-06T01:11:44.350183",
     "exception": false,
     "start_time": "2024-08-06T01:11:33.759711",
     "status": "completed"
    },
    "tags": []
   },
   "outputs": [],
   "source": [
    "import os\n",
    "import gc\n",
    "import cv2\n",
    "import math\n",
    "import copy\n",
    "import time\n",
    "import random\n",
    "import glob\n",
    "from matplotlib import pyplot as plt\n",
    "import h5py\n",
    "from PIL import Image\n",
    "from io import BytesIO\n",
    "\n",
    "# For data manipulation\n",
    "import numpy as np\n",
    "import pandas as pd\n",
    "\n",
    "# Pytorch Imports\n",
    "import torch\n",
    "import torch.nn as nn\n",
    "import torch.optim as optim\n",
    "import torch.nn.functional as F\n",
    "from torch.optim import lr_scheduler\n",
    "from torch.utils.data import Dataset, DataLoader\n",
    "from torch.cuda import amp\n",
    "import torchvision\n",
    "from torcheval.metrics.functional import binary_auroc\n",
    "\n",
    "# Utils\n",
    "import joblib\n",
    "from tqdm import tqdm\n",
    "from collections import defaultdict\n",
    "\n",
    "# Sklearn Imports\n",
    "from sklearn.preprocessing import LabelEncoder\n",
    "from sklearn.model_selection import StratifiedKFold, StratifiedGroupKFold \n",
    "from sklearn.metrics import roc_curve\n",
    "\n",
    "# For Image Models\n",
    "import timm\n",
    "\n",
    "# Albumentations for augmentations\n",
    "import albumentations as A\n",
    "from albumentations.pytorch import ToTensorV2\n",
    "\n",
    "# For colored terminal text\n",
    "from colorama import Fore, Back, Style\n",
    "b_ = Fore.BLUE\n",
    "sr_ = Style.RESET_ALL\n",
    "\n",
    "import warnings\n",
    "warnings.filterwarnings(\"ignore\")\n",
    "\n",
    "# For descriptive error messages\n",
    "os.environ['CUDA_LAUNCH_BLOCKING'] = \"1\""
   ]
  },
  {
   "cell_type": "markdown",
   "id": "0c5d468d",
   "metadata": {
    "papermill": {
     "duration": 0.016072,
     "end_time": "2024-08-06T01:11:44.383485",
     "exception": false,
     "start_time": "2024-08-06T01:11:44.367413",
     "status": "completed"
    },
    "tags": []
   },
   "source": [
    "# <span><h1 style = \"font-family: garamond; font-size: 40px; font-style: normal; letter-spcaing: 3px; background-color: #f6f5f5; color :#fe346e; border-radius: 100px 100px; text-align:center\">Training Configuration ⚙️</h1></span>"
   ]
  },
  {
   "cell_type": "code",
   "execution_count": 3,
   "id": "dd142e33",
   "metadata": {
    "execution": {
     "iopub.execute_input": "2024-08-06T01:11:44.419476Z",
     "iopub.status.busy": "2024-08-06T01:11:44.418341Z",
     "iopub.status.idle": "2024-08-06T01:11:44.495225Z",
     "shell.execute_reply": "2024-08-06T01:11:44.494092Z"
    },
    "papermill": {
     "duration": 0.097476,
     "end_time": "2024-08-06T01:11:44.497715",
     "exception": false,
     "start_time": "2024-08-06T01:11:44.400239",
     "status": "completed"
    },
    "tags": []
   },
   "outputs": [],
   "source": [
    "CONFIG = {\n",
    "    \"seed\": 42,\n",
    "    \"epochs\": 20,\n",
    "    \"img_size\": 336,\n",
    "    \"model_name\": \"eva02_small_patch14_336.mim_in22k_ft_in1k\",\n",
    "    \"train_batch_size\": 32,\n",
    "    \"valid_batch_size\": 64,\n",
    "    \"learning_rate\": 1e-5,\n",
    "    \"scheduler\": 'CosineAnnealingLR',\n",
    "    \"min_lr\": 1e-6,\n",
    "    \"T_max\": 500,\n",
    "    \"weight_decay\": 1e-6,\n",
    "    \"fold\" : 0,\n",
    "    \"n_fold\": 5,\n",
    "    \"n_accumulate\": 1,\n",
    "    \"device\": torch.device(\"cuda:0\" if torch.cuda.is_available() else \"cpu\"),\n",
    "}"
   ]
  },
  {
   "cell_type": "markdown",
   "id": "74600ede",
   "metadata": {
    "papermill": {
     "duration": 0.017023,
     "end_time": "2024-08-06T01:11:44.532016",
     "exception": false,
     "start_time": "2024-08-06T01:11:44.514993",
     "status": "completed"
    },
    "tags": []
   },
   "source": [
    "# <span><h1 style = \"font-family: garamond; font-size: 40px; font-style: normal; letter-spcaing: 3px; background-color: #f6f5f5; color :#fe346e; border-radius: 100px 100px; text-align:center\">Set Seed for Reproducibility</h1></span>"
   ]
  },
  {
   "cell_type": "code",
   "execution_count": 4,
   "id": "73371f01",
   "metadata": {
    "execution": {
     "iopub.execute_input": "2024-08-06T01:11:44.569999Z",
     "iopub.status.busy": "2024-08-06T01:11:44.569591Z",
     "iopub.status.idle": "2024-08-06T01:11:44.580038Z",
     "shell.execute_reply": "2024-08-06T01:11:44.578951Z"
    },
    "papermill": {
     "duration": 0.032584,
     "end_time": "2024-08-06T01:11:44.582601",
     "exception": false,
     "start_time": "2024-08-06T01:11:44.550017",
     "status": "completed"
    },
    "tags": []
   },
   "outputs": [],
   "source": [
    "def set_seed(seed=42):\n",
    "    '''Sets the seed of the entire notebook so results are the same every time we run.\n",
    "    This is for REPRODUCIBILITY.'''\n",
    "    np.random.seed(seed)\n",
    "    torch.manual_seed(seed)\n",
    "    torch.cuda.manual_seed(seed)\n",
    "    # When running on the CuDNN backend, two further options must be set\n",
    "    torch.backends.cudnn.deterministic = True\n",
    "    torch.backends.cudnn.benchmark = False\n",
    "    # Set a fixed value for the hash seed\n",
    "    os.environ['PYTHONHASHSEED'] = str(seed)\n",
    "    \n",
    "set_seed(CONFIG['seed'])"
   ]
  },
  {
   "cell_type": "code",
   "execution_count": 5,
   "id": "89b7ade6",
   "metadata": {
    "execution": {
     "iopub.execute_input": "2024-08-06T01:11:44.618599Z",
     "iopub.status.busy": "2024-08-06T01:11:44.618148Z",
     "iopub.status.idle": "2024-08-06T01:11:44.623079Z",
     "shell.execute_reply": "2024-08-06T01:11:44.622023Z"
    },
    "papermill": {
     "duration": 0.025556,
     "end_time": "2024-08-06T01:11:44.625404",
     "exception": false,
     "start_time": "2024-08-06T01:11:44.599848",
     "status": "completed"
    },
    "tags": []
   },
   "outputs": [],
   "source": [
    "ROOT_DIR = \"/kaggle/input/isic-2024-challenge\"\n",
    "HDF_FILE = f\"{ROOT_DIR}/train-image.hdf5\""
   ]
  },
  {
   "cell_type": "markdown",
   "id": "7ab1aa0c",
   "metadata": {
    "papermill": {
     "duration": 0.016568,
     "end_time": "2024-08-06T01:11:44.658961",
     "exception": false,
     "start_time": "2024-08-06T01:11:44.642393",
     "status": "completed"
    },
    "tags": []
   },
   "source": [
    "# <h1 style = \"font-family: garamond; font-size: 40px; font-style: normal; letter-spcaing: 3px; background-color: #f6f5f5; color :#fe346e; border-radius: 100px 100px; text-align:center\">Read the Data 📖</h1>"
   ]
  },
  {
   "cell_type": "code",
   "execution_count": 6,
   "id": "308465c5",
   "metadata": {
    "execution": {
     "iopub.execute_input": "2024-08-06T01:11:44.694844Z",
     "iopub.status.busy": "2024-08-06T01:11:44.693932Z",
     "iopub.status.idle": "2024-08-06T01:11:52.780372Z",
     "shell.execute_reply": "2024-08-06T01:11:52.779396Z"
    },
    "papermill": {
     "duration": 8.106821,
     "end_time": "2024-08-06T01:11:52.782781",
     "exception": false,
     "start_time": "2024-08-06T01:11:44.675960",
     "status": "completed"
    },
    "tags": []
   },
   "outputs": [
    {
     "name": "stdout",
     "output_type": "stream",
     "text": [
      "        df.shape, # of positive cases, # of patients\n",
      "original> (401059, 55) 393 (1042,)\n",
      "filtered> (8253, 55) 393 (950,)\n"
     ]
    }
   ],
   "source": [
    "df = pd.read_csv(f\"{ROOT_DIR}/train-metadata.csv\")\n",
    "\n",
    "print(\"        df.shape, # of positive cases, # of patients\")\n",
    "print(\"original>\", df.shape, df.target.sum(), df[\"patient_id\"].unique().shape)\n",
    "\n",
    "df_positive = df[df[\"target\"] == 1].reset_index(drop=True)\n",
    "df_negative = df[df[\"target\"] == 0].reset_index(drop=True)\n",
    "\n",
    "df = pd.concat([df_positive, df_negative.iloc[:df_positive.shape[0]*20, :]])  # positive:negative = 1:20\n",
    "print(\"filtered>\", df.shape, df.target.sum(), df[\"patient_id\"].unique().shape)\n",
    "\n",
    "df = df.reset_index(drop=True)"
   ]
  },
  {
   "cell_type": "code",
   "execution_count": 7,
   "id": "1e867379",
   "metadata": {
    "execution": {
     "iopub.execute_input": "2024-08-06T01:11:52.816287Z",
     "iopub.status.busy": "2024-08-06T01:11:52.815927Z",
     "iopub.status.idle": "2024-08-06T01:11:52.823674Z",
     "shell.execute_reply": "2024-08-06T01:11:52.822731Z"
    },
    "papermill": {
     "duration": 0.027554,
     "end_time": "2024-08-06T01:11:52.826080",
     "exception": false,
     "start_time": "2024-08-06T01:11:52.798526",
     "status": "completed"
    },
    "tags": []
   },
   "outputs": [
    {
     "data": {
      "text/plain": [
       "(8253, 393)"
      ]
     },
     "execution_count": 7,
     "metadata": {},
     "output_type": "execute_result"
    }
   ],
   "source": [
    "df.shape[0], df.target.sum()"
   ]
  },
  {
   "cell_type": "code",
   "execution_count": 8,
   "id": "a883baff",
   "metadata": {
    "execution": {
     "iopub.execute_input": "2024-08-06T01:11:52.860254Z",
     "iopub.status.busy": "2024-08-06T01:11:52.859900Z",
     "iopub.status.idle": "2024-08-06T01:11:52.866693Z",
     "shell.execute_reply": "2024-08-06T01:11:52.865797Z"
    },
    "papermill": {
     "duration": 0.02707,
     "end_time": "2024-08-06T01:11:52.868979",
     "exception": false,
     "start_time": "2024-08-06T01:11:52.841909",
     "status": "completed"
    },
    "tags": []
   },
   "outputs": [
    {
     "data": {
      "text/plain": [
       "4126"
      ]
     },
     "execution_count": 8,
     "metadata": {},
     "output_type": "execute_result"
    }
   ],
   "source": [
    "CONFIG['T_max'] = df.shape[0] * (CONFIG[\"n_fold\"]-1) * CONFIG['epochs'] // CONFIG['train_batch_size'] // CONFIG[\"n_fold\"]\n",
    "CONFIG['T_max']"
   ]
  },
  {
   "cell_type": "markdown",
   "id": "f229b88b",
   "metadata": {
    "papermill": {
     "duration": 0.015047,
     "end_time": "2024-08-06T01:11:52.899746",
     "exception": false,
     "start_time": "2024-08-06T01:11:52.884699",
     "status": "completed"
    },
    "tags": []
   },
   "source": [
    "# <span><h1 style = \"font-family: garamond; font-size: 40px; font-style: normal; letter-spcaing: 3px; background-color: #f6f5f5; color :#fe346e; border-radius: 100px 100px; text-align:center\">Create Folds</h1></span>"
   ]
  },
  {
   "cell_type": "code",
   "execution_count": 9,
   "id": "5324088a",
   "metadata": {
    "execution": {
     "iopub.execute_input": "2024-08-06T01:11:52.933564Z",
     "iopub.status.busy": "2024-08-06T01:11:52.932794Z",
     "iopub.status.idle": "2024-08-06T01:11:53.463674Z",
     "shell.execute_reply": "2024-08-06T01:11:53.462634Z"
    },
    "papermill": {
     "duration": 0.550958,
     "end_time": "2024-08-06T01:11:53.466644",
     "exception": false,
     "start_time": "2024-08-06T01:11:52.915686",
     "status": "completed"
    },
    "tags": []
   },
   "outputs": [],
   "source": [
    "sgkf = StratifiedGroupKFold(n_splits=CONFIG['n_fold'])\n",
    "\n",
    "for fold, ( _, val_) in enumerate(sgkf.split(df, df.target, df.patient_id)):\n",
    "      df.loc[val_ , \"kfold\"] = int(fold)"
   ]
  },
  {
   "cell_type": "markdown",
   "id": "58fd8c75",
   "metadata": {
    "papermill": {
     "duration": 0.016133,
     "end_time": "2024-08-06T01:11:53.500754",
     "exception": false,
     "start_time": "2024-08-06T01:11:53.484621",
     "status": "completed"
    },
    "tags": []
   },
   "source": [
    "# <span><h1 style = \"font-family: garamond; font-size: 40px; font-style: normal; letter-spcaing: 3px; background-color: #f6f5f5; color :#fe346e; border-radius: 100px 100px; text-align:center\">Dataset Class</h1></span>"
   ]
  },
  {
   "cell_type": "code",
   "execution_count": 10,
   "id": "527ac203",
   "metadata": {
    "execution": {
     "iopub.execute_input": "2024-08-06T01:11:53.534764Z",
     "iopub.status.busy": "2024-08-06T01:11:53.533972Z",
     "iopub.status.idle": "2024-08-06T01:11:53.549315Z",
     "shell.execute_reply": "2024-08-06T01:11:53.548522Z"
    },
    "papermill": {
     "duration": 0.034568,
     "end_time": "2024-08-06T01:11:53.551408",
     "exception": false,
     "start_time": "2024-08-06T01:11:53.516840",
     "status": "completed"
    },
    "tags": []
   },
   "outputs": [],
   "source": [
    "class ISICDataset_for_Train(Dataset):\n",
    "    def __init__(self, df, file_hdf, transforms=None):\n",
    "        self.fp_hdf = h5py.File(file_hdf, mode=\"r\")\n",
    "        self.df_positive = df[df[\"target\"] == 1].reset_index()\n",
    "        self.df_negative = df[df[\"target\"] == 0].reset_index()\n",
    "        self.isic_ids_positive = self.df_positive['isic_id'].values\n",
    "        self.isic_ids_negative = self.df_negative['isic_id'].values\n",
    "        self.targets_positive = self.df_positive['target'].values\n",
    "        self.targets_negative = self.df_negative['target'].values\n",
    "        self.transforms = transforms\n",
    "        \n",
    "    def __len__(self):\n",
    "        return len(self.df_positive) * 2\n",
    "    \n",
    "    def __getitem__(self, index):\n",
    "        if random.random() >= 0.5:\n",
    "            df = self.df_positive\n",
    "            isic_ids = self.isic_ids_positive\n",
    "            targets = self.targets_positive\n",
    "        else:\n",
    "            df = self.df_negative\n",
    "            isic_ids = self.isic_ids_negative\n",
    "            targets = self.targets_negative\n",
    "        index = index % df.shape[0]\n",
    "        \n",
    "        isic_id = isic_ids[index]\n",
    "        img = np.array( Image.open(BytesIO(self.fp_hdf[isic_id][()])) )\n",
    "        if random.random() < 0.5:#Hair Removal\n",
    "            img = hair_remove(img)\n",
    "        target = targets[index]\n",
    "        \n",
    "        if self.transforms:\n",
    "            img = self.transforms(image=img)[\"image\"]\n",
    "            \n",
    "        return {\n",
    "            'image': img,\n",
    "            'target': target\n",
    "        }\n",
    "    \n",
    "class ISICDataset(Dataset):\n",
    "    def __init__(self, df, file_hdf, transforms=None):\n",
    "        self.fp_hdf = h5py.File(file_hdf, mode=\"r\")\n",
    "        self.df = df\n",
    "        self.isic_ids = df['isic_id'].values\n",
    "        self.targets = df['target'].values\n",
    "        self.transforms = transforms\n",
    "        \n",
    "    def __len__(self):\n",
    "        return len(self.df)\n",
    "    \n",
    "    def __getitem__(self, index):\n",
    "        isic_id = self.isic_ids[index]\n",
    "        img = np.array( Image.open(BytesIO(self.fp_hdf[isic_id][()])) )\n",
    "        target = self.targets[index]\n",
    "        \n",
    "        if self.transforms:\n",
    "            img = self.transforms(image=img)[\"image\"]\n",
    "            \n",
    "        return {\n",
    "            'image': img,\n",
    "            'target': target\n",
    "        }"
   ]
  },
  {
   "cell_type": "markdown",
   "id": "7d1cdc21",
   "metadata": {
    "papermill": {
     "duration": 0.015143,
     "end_time": "2024-08-06T01:11:53.581704",
     "exception": false,
     "start_time": "2024-08-06T01:11:53.566561",
     "status": "completed"
    },
    "tags": []
   },
   "source": [
    "# <span><h1 style = \"font-family: garamond; font-size: 40px; font-style: normal; letter-spcaing: 3px; background-color: #f6f5f5; color :#fe346e; border-radius: 100px 100px; text-align:center\">Create Model</h1></span>"
   ]
  },
  {
   "cell_type": "code",
   "execution_count": 11,
   "id": "2b34c8cb",
   "metadata": {
    "execution": {
     "iopub.execute_input": "2024-08-06T01:11:53.614940Z",
     "iopub.status.busy": "2024-08-06T01:11:53.614637Z",
     "iopub.status.idle": "2024-08-06T01:11:57.332813Z",
     "shell.execute_reply": "2024-08-06T01:11:57.331737Z"
    },
    "papermill": {
     "duration": 3.737244,
     "end_time": "2024-08-06T01:11:57.335536",
     "exception": false,
     "start_time": "2024-08-06T01:11:53.598292",
     "status": "completed"
    },
    "tags": []
   },
   "outputs": [
    {
     "data": {
      "application/vnd.jupyter.widget-view+json": {
       "model_id": "a4b8254695eb4144a497c2162c09a803",
       "version_major": 2,
       "version_minor": 0
      },
      "text/plain": [
       "model.safetensors:   0%|          | 0.00/88.5M [00:00<?, ?B/s]"
      ]
     },
     "metadata": {},
     "output_type": "display_data"
    }
   ],
   "source": [
    "class ISICModel(nn.Module):\n",
    "    def __init__(self, model_name, num_classes=1, pretrained=True, checkpoint_path=None):\n",
    "        super(ISICModel, self).__init__()\n",
    "        self.model = timm.create_model(model_name, pretrained=pretrained, checkpoint_path=checkpoint_path)\n",
    "\n",
    "        in_features = self.model.head.in_features\n",
    "        self.model.head = nn.Linear(in_features, num_classes)\n",
    "        self.sigmoid = nn.Sigmoid()\n",
    "\n",
    "    def forward(self, images):\n",
    "        return self.sigmoid(self.model(images))\n",
    "    \n",
    "model = ISICModel(CONFIG['model_name'], pretrained=True)\n",
    "model.to(CONFIG['device']);"
   ]
  },
  {
   "cell_type": "markdown",
   "id": "70bfbd71",
   "metadata": {
    "papermill": {
     "duration": 0.016653,
     "end_time": "2024-08-06T01:11:57.369460",
     "exception": false,
     "start_time": "2024-08-06T01:11:57.352807",
     "status": "completed"
    },
    "tags": []
   },
   "source": [
    "# <span><h1 style = \"font-family: garamond; font-size: 40px; font-style: normal; letter-spcaing: 3px; background-color: #f6f5f5; color :#fe346e; border-radius: 100px 100px; text-align:center\">Augmentations</h1></span>"
   ]
  },
  {
   "cell_type": "code",
   "execution_count": 12,
   "id": "7da36148",
   "metadata": {
    "execution": {
     "iopub.execute_input": "2024-08-06T01:11:57.404424Z",
     "iopub.status.busy": "2024-08-06T01:11:57.404017Z",
     "iopub.status.idle": "2024-08-06T01:11:57.413534Z",
     "shell.execute_reply": "2024-08-06T01:11:57.412280Z"
    },
    "papermill": {
     "duration": 0.029926,
     "end_time": "2024-08-06T01:11:57.415853",
     "exception": false,
     "start_time": "2024-08-06T01:11:57.385927",
     "status": "completed"
    },
    "tags": []
   },
   "outputs": [],
   "source": [
    "data_transforms = {\n",
    "    \"train\": A.Compose([\n",
    "        A.RandomRotate90(p=0.5),\n",
    "        A.Flip(p=0.5),\n",
    "#        A.Downscale(p=0.25),\n",
    "#        A.ShiftScaleRotate(shift_limit=0.1, \n",
    "#                           scale_limit=0.15, \n",
    "#                           rotate_limit=60, \n",
    "#                           p=0.5),\n",
    "#        A.HueSaturationValue(\n",
    "#                hue_shift_limit=20, \n",
    "#                sat_shift_limit=20, \n",
    "#                val_shift_limit=20, \n",
    "#                p=0.5\n",
    "#            ),\n",
    "#        A.RandomBrightnessContrast(\n",
    "#                brightness_limit=(-0.1,0.1), \n",
    "#                contrast_limit=(-0.1, 0.1), \n",
    "#                p=0.5\n",
    "#            ),\n",
    "        A.Resize(CONFIG['img_size'], CONFIG['img_size']),\n",
    "        A.Normalize(\n",
    "                mean=[0.4815, 0.4578, 0.4082], \n",
    "                std=[0.2686, 0.2613, 0.2758], \n",
    "                max_pixel_value=255.0,\n",
    "                p=1.0\n",
    "            ),\n",
    "        ToTensorV2()\n",
    "    ], p=1.),\n",
    "    \n",
    "    \"valid\": A.Compose([\n",
    "        A.Resize(CONFIG['img_size'], CONFIG['img_size']),\n",
    "        A.Normalize(\n",
    "                mean=[0.4815, 0.4578, 0.4082], \n",
    "                std=[0.2686, 0.2613, 0.2758], \n",
    "                max_pixel_value=255.0,\n",
    "                p=1.0\n",
    "            ),\n",
    "        ToTensorV2(),\n",
    "        ], p=1.)\n",
    "}"
   ]
  },
  {
   "cell_type": "code",
   "execution_count": 13,
   "id": "ece2db4a",
   "metadata": {
    "execution": {
     "iopub.execute_input": "2024-08-06T01:11:57.452543Z",
     "iopub.status.busy": "2024-08-06T01:11:57.451856Z",
     "iopub.status.idle": "2024-08-06T01:11:57.458576Z",
     "shell.execute_reply": "2024-08-06T01:11:57.457648Z"
    },
    "papermill": {
     "duration": 0.02785,
     "end_time": "2024-08-06T01:11:57.461263",
     "exception": false,
     "start_time": "2024-08-06T01:11:57.433413",
     "status": "completed"
    },
    "tags": []
   },
   "outputs": [],
   "source": [
    "def hair_remove(image):\n",
    "    # convert image to grayScale\n",
    "    grayScale = cv2.cvtColor(image, cv2.COLOR_RGB2GRAY)\n",
    "\n",
    "    # kernel for morphologyEx\n",
    "    kernel = cv2.getStructuringElement(1,(17,17))\n",
    "\n",
    "    # apply MORPH_BLACKHAT to grayScale image\n",
    "    blackhat = cv2.morphologyEx(grayScale, cv2.MORPH_BLACKHAT, kernel)\n",
    "\n",
    "    # apply thresholding to blackhat\n",
    "    _,threshold = cv2.threshold(blackhat,10,255,cv2.THRESH_BINARY)\n",
    "\n",
    "    # inpaint with original image and threshold image\n",
    "    final_image = cv2.inpaint(image,threshold,1,cv2.INPAINT_TELEA)\n",
    "\n",
    "    return final_image"
   ]
  },
  {
   "cell_type": "markdown",
   "id": "18f98d26",
   "metadata": {
    "papermill": {
     "duration": 0.062268,
     "end_time": "2024-08-06T01:11:57.541298",
     "exception": false,
     "start_time": "2024-08-06T01:11:57.479030",
     "status": "completed"
    },
    "tags": []
   },
   "source": [
    "# <span><h1 style = \"font-family: garamond; font-size: 40px; font-style: normal; letter-spcaing: 3px; background-color: #f6f5f5; color :#fe346e; border-radius: 100px 100px; text-align:center\">Loss Function</h1></span>"
   ]
  },
  {
   "cell_type": "code",
   "execution_count": 14,
   "id": "8060644c",
   "metadata": {
    "execution": {
     "iopub.execute_input": "2024-08-06T01:11:57.575229Z",
     "iopub.status.busy": "2024-08-06T01:11:57.574603Z",
     "iopub.status.idle": "2024-08-06T01:11:57.579622Z",
     "shell.execute_reply": "2024-08-06T01:11:57.578546Z"
    },
    "papermill": {
     "duration": 0.024133,
     "end_time": "2024-08-06T01:11:57.581680",
     "exception": false,
     "start_time": "2024-08-06T01:11:57.557547",
     "status": "completed"
    },
    "tags": []
   },
   "outputs": [],
   "source": [
    "def criterion(outputs, targets):\n",
    "    return nn.BCELoss()(outputs, targets)"
   ]
  },
  {
   "cell_type": "markdown",
   "id": "e00395f4",
   "metadata": {
    "papermill": {
     "duration": 0.017178,
     "end_time": "2024-08-06T01:11:57.614621",
     "exception": false,
     "start_time": "2024-08-06T01:11:57.597443",
     "status": "completed"
    },
    "tags": []
   },
   "source": [
    "# <span><h1 style = \"font-family: garamond; font-size: 40px; font-style: normal; letter-spcaing: 3px; background-color: #f6f5f5; color :#fe346e; border-radius: 100px 100px; text-align:center\">Training Function</h1></span>"
   ]
  },
  {
   "cell_type": "code",
   "execution_count": 15,
   "id": "ecc51bb1",
   "metadata": {
    "execution": {
     "iopub.execute_input": "2024-08-06T01:11:57.648214Z",
     "iopub.status.busy": "2024-08-06T01:11:57.647843Z",
     "iopub.status.idle": "2024-08-06T01:11:57.659236Z",
     "shell.execute_reply": "2024-08-06T01:11:57.658288Z"
    },
    "papermill": {
     "duration": 0.030795,
     "end_time": "2024-08-06T01:11:57.661386",
     "exception": false,
     "start_time": "2024-08-06T01:11:57.630591",
     "status": "completed"
    },
    "tags": []
   },
   "outputs": [],
   "source": [
    "def train_one_epoch(model, optimizer, scheduler, dataloader, device, epoch):\n",
    "    model.train()\n",
    "    \n",
    "    dataset_size = 0\n",
    "    running_loss = 0.0\n",
    "    running_auroc  = 0.0\n",
    "    \n",
    "    bar = tqdm(enumerate(dataloader), total=len(dataloader))\n",
    "    for step, data in bar:\n",
    "        images = data['image'].to(device, dtype=torch.float)\n",
    "        targets = data['target'].to(device, dtype=torch.float)\n",
    "        \n",
    "        batch_size = images.size(0)\n",
    "        \n",
    "        outputs = model(images).squeeze()\n",
    "        loss = criterion(outputs, targets)\n",
    "        loss = loss / CONFIG['n_accumulate']\n",
    "            \n",
    "        loss.backward()\n",
    "    \n",
    "        if (step + 1) % CONFIG['n_accumulate'] == 0:\n",
    "            optimizer.step()\n",
    "\n",
    "            # zero the parameter gradients\n",
    "            optimizer.zero_grad()\n",
    "\n",
    "            if scheduler is not None:\n",
    "                scheduler.step()\n",
    "                \n",
    "        auroc = binary_auroc(input=outputs.squeeze(), target=targets).item()\n",
    "        \n",
    "        running_loss += (loss.item() * batch_size)\n",
    "        running_auroc  += (auroc * batch_size)\n",
    "        dataset_size += batch_size\n",
    "        \n",
    "        epoch_loss = running_loss / dataset_size\n",
    "        epoch_auroc = running_auroc / dataset_size\n",
    "        \n",
    "        bar.set_postfix(Epoch=epoch, Train_Loss=epoch_loss, Train_Auroc=epoch_auroc,\n",
    "                        LR=optimizer.param_groups[0]['lr'])\n",
    "    gc.collect()\n",
    "    \n",
    "    return epoch_loss, epoch_auroc"
   ]
  },
  {
   "cell_type": "markdown",
   "id": "584a3615",
   "metadata": {
    "papermill": {
     "duration": 0.016419,
     "end_time": "2024-08-06T01:11:57.693901",
     "exception": false,
     "start_time": "2024-08-06T01:11:57.677482",
     "status": "completed"
    },
    "tags": []
   },
   "source": [
    "# <span><h1 style = \"font-family: garamond; font-size: 40px; font-style: normal; letter-spcaing: 3px; background-color: #f6f5f5; color :#fe346e; border-radius: 100px 100px; text-align:center\">Validation Function</h1></span>"
   ]
  },
  {
   "cell_type": "code",
   "execution_count": 16,
   "id": "ece54b12",
   "metadata": {
    "execution": {
     "iopub.execute_input": "2024-08-06T01:11:57.727565Z",
     "iopub.status.busy": "2024-08-06T01:11:57.727186Z",
     "iopub.status.idle": "2024-08-06T01:11:57.737092Z",
     "shell.execute_reply": "2024-08-06T01:11:57.736280Z"
    },
    "papermill": {
     "duration": 0.029221,
     "end_time": "2024-08-06T01:11:57.739278",
     "exception": false,
     "start_time": "2024-08-06T01:11:57.710057",
     "status": "completed"
    },
    "tags": []
   },
   "outputs": [],
   "source": [
    "@torch.inference_mode()\n",
    "def valid_one_epoch(model, dataloader, device, epoch):\n",
    "    model.eval()\n",
    "    \n",
    "    dataset_size = 0\n",
    "    running_loss = 0.0\n",
    "    running_auroc = 0.0\n",
    "    \n",
    "    bar = tqdm(enumerate(dataloader), total=len(dataloader))\n",
    "    for step, data in bar:        \n",
    "        images = data['image'].to(device, dtype=torch.float)\n",
    "        targets = data['target'].to(device, dtype=torch.float)\n",
    "        \n",
    "        batch_size = images.size(0)\n",
    "\n",
    "        outputs = model(images).squeeze()\n",
    "        loss = criterion(outputs, targets)\n",
    "\n",
    "        auroc = binary_auroc(input=outputs.squeeze(), target=targets).item()\n",
    "        running_loss += (loss.item() * batch_size)\n",
    "        running_auroc  += (auroc * batch_size)\n",
    "        dataset_size += batch_size\n",
    "        \n",
    "        epoch_loss = running_loss / dataset_size\n",
    "        epoch_auroc = running_auroc / dataset_size\n",
    "        \n",
    "        bar.set_postfix(Epoch=epoch, Valid_Loss=epoch_loss, Valid_Auroc=epoch_auroc,\n",
    "                        LR=optimizer.param_groups[0]['lr'])   \n",
    "    \n",
    "    gc.collect()\n",
    "    \n",
    "    return epoch_loss, epoch_auroc"
   ]
  },
  {
   "cell_type": "markdown",
   "id": "8191190f",
   "metadata": {
    "papermill": {
     "duration": 0.016123,
     "end_time": "2024-08-06T01:11:57.771647",
     "exception": false,
     "start_time": "2024-08-06T01:11:57.755524",
     "status": "completed"
    },
    "tags": []
   },
   "source": [
    "# <span><h1 style = \"font-family: garamond; font-size: 40px; font-style: normal; letter-spcaing: 3px; background-color: #f6f5f5; color :#fe346e; border-radius: 100px 100px; text-align:center\">Run Training</h1></span>"
   ]
  },
  {
   "cell_type": "code",
   "execution_count": 17,
   "id": "31b7edb5",
   "metadata": {
    "execution": {
     "iopub.execute_input": "2024-08-06T01:11:57.807141Z",
     "iopub.status.busy": "2024-08-06T01:11:57.806198Z",
     "iopub.status.idle": "2024-08-06T01:11:57.819849Z",
     "shell.execute_reply": "2024-08-06T01:11:57.818867Z"
    },
    "papermill": {
     "duration": 0.034484,
     "end_time": "2024-08-06T01:11:57.822152",
     "exception": false,
     "start_time": "2024-08-06T01:11:57.787668",
     "status": "completed"
    },
    "tags": []
   },
   "outputs": [],
   "source": [
    "def run_training(model, optimizer, scheduler, device, num_epochs):\n",
    "    if torch.cuda.is_available():\n",
    "        print(\"[INFO] Using GPU: {}\\n\".format(torch.cuda.get_device_name()))\n",
    "    \n",
    "    start = time.time()\n",
    "    best_model_wts = copy.deepcopy(model.state_dict())\n",
    "    best_epoch_auroc = -np.inf\n",
    "    history = defaultdict(list)\n",
    "    \n",
    "    for epoch in range(1, num_epochs + 1): \n",
    "        gc.collect()\n",
    "        train_epoch_loss, train_epoch_auroc = train_one_epoch(model, optimizer, scheduler, \n",
    "                                           dataloader=train_loader, \n",
    "                                           device=CONFIG['device'], epoch=epoch)\n",
    "        \n",
    "        val_epoch_loss, val_epoch_auroc = valid_one_epoch(model, valid_loader, device=CONFIG['device'], \n",
    "                                         epoch=epoch)\n",
    "    \n",
    "        history['Train Loss'].append(train_epoch_loss)\n",
    "        history['Valid Loss'].append(val_epoch_loss)\n",
    "        history['Train AUROC'].append(train_epoch_auroc)\n",
    "        history['Valid AUROC'].append(val_epoch_auroc)\n",
    "        history['lr'].append( scheduler.get_lr()[0] )\n",
    "        \n",
    "        # deep copy the model\n",
    "        if best_epoch_auroc <= val_epoch_auroc:\n",
    "            print(f\"{b_}Validation AUROC Improved ({best_epoch_auroc} ---> {val_epoch_auroc})\")\n",
    "            best_epoch_auroc = val_epoch_auroc\n",
    "            best_model_wts = copy.deepcopy(model.state_dict())\n",
    "            PATH = \"AUROC{:.4f}_Loss{:.4f}_epoch{:.0f}.bin\".format(val_epoch_auroc, val_epoch_loss, epoch)\n",
    "            torch.save(model.state_dict(), PATH)\n",
    "            # Save a model file from the current directory\n",
    "            print(f\"Model Saved{sr_}\")\n",
    "            \n",
    "        print()\n",
    "    \n",
    "    end = time.time()\n",
    "    time_elapsed = end - start\n",
    "    print('Training complete in {:.0f}h {:.0f}m {:.0f}s'.format(\n",
    "        time_elapsed // 3600, (time_elapsed % 3600) // 60, (time_elapsed % 3600) % 60))\n",
    "    print(\"Best AUROC: {:.4f}\".format(best_epoch_auroc))\n",
    "    \n",
    "    # load best model weights\n",
    "    model.load_state_dict(best_model_wts)\n",
    "    \n",
    "    return model, history"
   ]
  },
  {
   "cell_type": "code",
   "execution_count": 18,
   "id": "afb883c4",
   "metadata": {
    "execution": {
     "iopub.execute_input": "2024-08-06T01:11:57.859084Z",
     "iopub.status.busy": "2024-08-06T01:11:57.858189Z",
     "iopub.status.idle": "2024-08-06T01:11:57.865171Z",
     "shell.execute_reply": "2024-08-06T01:11:57.863889Z"
    },
    "papermill": {
     "duration": 0.028326,
     "end_time": "2024-08-06T01:11:57.867610",
     "exception": false,
     "start_time": "2024-08-06T01:11:57.839284",
     "status": "completed"
    },
    "tags": []
   },
   "outputs": [],
   "source": [
    "def fetch_scheduler(optimizer):\n",
    "    if CONFIG['scheduler'] == 'CosineAnnealingLR':\n",
    "        scheduler = lr_scheduler.CosineAnnealingLR(optimizer,T_max=CONFIG['T_max'], \n",
    "                                                   eta_min=CONFIG['min_lr'])\n",
    "    elif CONFIG['scheduler'] == 'CosineAnnealingWarmRestarts':\n",
    "        scheduler = lr_scheduler.CosineAnnealingWarmRestarts(optimizer,T_0=CONFIG['T_0'], \n",
    "                                                             eta_min=CONFIG['min_lr'])\n",
    "    elif CONFIG['scheduler'] == None:\n",
    "        return None\n",
    "        \n",
    "    return scheduler"
   ]
  },
  {
   "cell_type": "code",
   "execution_count": 19,
   "id": "1b494ed0",
   "metadata": {
    "execution": {
     "iopub.execute_input": "2024-08-06T01:11:57.902781Z",
     "iopub.status.busy": "2024-08-06T01:11:57.902125Z",
     "iopub.status.idle": "2024-08-06T01:11:57.909691Z",
     "shell.execute_reply": "2024-08-06T01:11:57.908668Z"
    },
    "papermill": {
     "duration": 0.027576,
     "end_time": "2024-08-06T01:11:57.911991",
     "exception": false,
     "start_time": "2024-08-06T01:11:57.884415",
     "status": "completed"
    },
    "tags": []
   },
   "outputs": [],
   "source": [
    "def prepare_loaders(df, fold):\n",
    "    df_train = df[df.kfold != fold].reset_index(drop=True)\n",
    "    df_valid = df[df.kfold == fold].reset_index(drop=True)\n",
    "    \n",
    "    train_dataset = ISICDataset_for_Train(df_train, HDF_FILE, transforms=data_transforms[\"train\"])\n",
    "    valid_dataset = ISICDataset(df_valid, HDF_FILE, transforms=data_transforms[\"valid\"])\n",
    "\n",
    "    train_loader = DataLoader(train_dataset, batch_size=CONFIG['train_batch_size'], \n",
    "                              num_workers=2, shuffle=True, pin_memory=True, drop_last=True)\n",
    "    valid_loader = DataLoader(valid_dataset, batch_size=CONFIG['valid_batch_size'], \n",
    "                              num_workers=2, shuffle=False, pin_memory=True)\n",
    "    \n",
    "    return train_loader, valid_loader"
   ]
  },
  {
   "cell_type": "markdown",
   "id": "37d2943a",
   "metadata": {
    "papermill": {
     "duration": 0.016292,
     "end_time": "2024-08-06T01:11:57.945228",
     "exception": false,
     "start_time": "2024-08-06T01:11:57.928936",
     "status": "completed"
    },
    "tags": []
   },
   "source": [
    "<span style=\"color: #000508; font-family: Segoe UI; font-size: 1.5em; font-weight: 300;\">Prepare Dataloaders</span>"
   ]
  },
  {
   "cell_type": "code",
   "execution_count": 20,
   "id": "6b6f23d6",
   "metadata": {
    "execution": {
     "iopub.execute_input": "2024-08-06T01:11:57.978973Z",
     "iopub.status.busy": "2024-08-06T01:11:57.978603Z",
     "iopub.status.idle": "2024-08-06T01:11:58.008824Z",
     "shell.execute_reply": "2024-08-06T01:11:58.007882Z"
    },
    "papermill": {
     "duration": 0.050249,
     "end_time": "2024-08-06T01:11:58.011644",
     "exception": false,
     "start_time": "2024-08-06T01:11:57.961395",
     "status": "completed"
    },
    "tags": []
   },
   "outputs": [],
   "source": [
    "train_loader, valid_loader = prepare_loaders(df, fold=CONFIG[\"fold\"])"
   ]
  },
  {
   "cell_type": "markdown",
   "id": "0d34dd33",
   "metadata": {
    "papermill": {
     "duration": 0.016461,
     "end_time": "2024-08-06T01:11:58.045264",
     "exception": false,
     "start_time": "2024-08-06T01:11:58.028803",
     "status": "completed"
    },
    "tags": []
   },
   "source": [
    "<span style=\"color: #000508; font-family: Segoe UI; font-size: 1.5em; font-weight: 300;\">Define Optimizer and Scheduler</span>"
   ]
  },
  {
   "cell_type": "code",
   "execution_count": 21,
   "id": "6510f69a",
   "metadata": {
    "execution": {
     "iopub.execute_input": "2024-08-06T01:11:58.079159Z",
     "iopub.status.busy": "2024-08-06T01:11:58.078087Z",
     "iopub.status.idle": "2024-08-06T01:11:58.084947Z",
     "shell.execute_reply": "2024-08-06T01:11:58.084133Z"
    },
    "papermill": {
     "duration": 0.026162,
     "end_time": "2024-08-06T01:11:58.087156",
     "exception": false,
     "start_time": "2024-08-06T01:11:58.060994",
     "status": "completed"
    },
    "tags": []
   },
   "outputs": [],
   "source": [
    "optimizer = optim.Adam(model.parameters(), lr=CONFIG['learning_rate'], \n",
    "                       weight_decay=CONFIG['weight_decay'])\n",
    "scheduler = fetch_scheduler(optimizer)"
   ]
  },
  {
   "cell_type": "markdown",
   "id": "7708df21",
   "metadata": {
    "papermill": {
     "duration": 0.016283,
     "end_time": "2024-08-06T01:11:58.119438",
     "exception": false,
     "start_time": "2024-08-06T01:11:58.103155",
     "status": "completed"
    },
    "tags": []
   },
   "source": [
    "<span style=\"color: #000508; font-family: Segoe UI; font-size: 1.5em; font-weight: 300;\">Start Training</span>"
   ]
  },
  {
   "cell_type": "code",
   "execution_count": 22,
   "id": "7d4de7d9",
   "metadata": {
    "execution": {
     "iopub.execute_input": "2024-08-06T01:11:58.154151Z",
     "iopub.status.busy": "2024-08-06T01:11:58.153467Z",
     "iopub.status.idle": "2024-08-06T01:21:48.330472Z",
     "shell.execute_reply": "2024-08-06T01:21:48.329381Z"
    },
    "papermill": {
     "duration": 590.197875,
     "end_time": "2024-08-06T01:21:48.333212",
     "exception": false,
     "start_time": "2024-08-06T01:11:58.135337",
     "status": "completed"
    },
    "tags": []
   },
   "outputs": [
    {
     "name": "stdout",
     "output_type": "stream",
     "text": [
      "[INFO] Using GPU: Tesla P100-PCIE-16GB\n",
      "\n"
     ]
    },
    {
     "name": "stderr",
     "output_type": "stream",
     "text": [
      "100%|██████████| 19/19 [00:18<00:00,  1.01it/s, Epoch=1, LR=1e-5, Train_Auroc=0.802, Train_Loss=0.54]\n",
      "100%|██████████| 26/26 [00:13<00:00,  1.98it/s, Epoch=1, LR=1e-5, Valid_Auroc=0.515, Valid_Loss=0.407]\n"
     ]
    },
    {
     "name": "stdout",
     "output_type": "stream",
     "text": [
      "\u001b[34mValidation AUROC Improved (-inf ---> 0.5145827925355485)\n",
      "Model Saved\u001b[0m\n",
      "\n"
     ]
    },
    {
     "name": "stderr",
     "output_type": "stream",
     "text": [
      "100%|██████████| 19/19 [00:16<00:00,  1.17it/s, Epoch=2, LR=1e-5, Train_Auroc=0.899, Train_Loss=0.423]\n",
      "100%|██████████| 26/26 [00:12<00:00,  2.05it/s, Epoch=2, LR=1e-5, Valid_Auroc=0.517, Valid_Loss=0.312]\n"
     ]
    },
    {
     "name": "stdout",
     "output_type": "stream",
     "text": [
      "\u001b[34mValidation AUROC Improved (0.5145827925355485 ---> 0.5169561222429614)\n",
      "Model Saved\u001b[0m\n",
      "\n"
     ]
    },
    {
     "name": "stderr",
     "output_type": "stream",
     "text": [
      "100%|██████████| 19/19 [00:16<00:00,  1.17it/s, Epoch=3, LR=1e-5, Train_Auroc=0.927, Train_Loss=0.361]\n",
      "100%|██████████| 26/26 [00:12<00:00,  2.13it/s, Epoch=3, LR=1e-5, Valid_Auroc=0.517, Valid_Loss=0.352]\n"
     ]
    },
    {
     "name": "stdout",
     "output_type": "stream",
     "text": [
      "\u001b[34mValidation AUROC Improved (0.5169561222429614 ---> 0.5170616035632909)\n",
      "Model Saved\u001b[0m\n",
      "\n"
     ]
    },
    {
     "name": "stderr",
     "output_type": "stream",
     "text": [
      "100%|██████████| 19/19 [00:16<00:00,  1.17it/s, Epoch=4, LR=9.99e-6, Train_Auroc=0.947, Train_Loss=0.325]\n",
      "100%|██████████| 26/26 [00:12<00:00,  2.10it/s, Epoch=4, LR=9.99e-6, Valid_Auroc=0.517, Valid_Loss=0.18]\n"
     ]
    },
    {
     "name": "stdout",
     "output_type": "stream",
     "text": [
      "\n"
     ]
    },
    {
     "name": "stderr",
     "output_type": "stream",
     "text": [
      "100%|██████████| 19/19 [00:16<00:00,  1.17it/s, Epoch=5, LR=9.99e-6, Train_Auroc=0.955, Train_Loss=0.299]\n",
      "100%|██████████| 26/26 [00:12<00:00,  2.13it/s, Epoch=5, LR=9.99e-6, Valid_Auroc=0.517, Valid_Loss=0.301]\n"
     ]
    },
    {
     "name": "stdout",
     "output_type": "stream",
     "text": [
      "\u001b[34mValidation AUROC Improved (0.5170616035632909 ---> 0.5172725662039498)\n",
      "Model Saved\u001b[0m\n",
      "\n"
     ]
    },
    {
     "name": "stderr",
     "output_type": "stream",
     "text": [
      "100%|██████████| 19/19 [00:16<00:00,  1.17it/s, Epoch=6, LR=9.98e-6, Train_Auroc=0.963, Train_Loss=0.26]\n",
      "100%|██████████| 26/26 [00:12<00:00,  2.14it/s, Epoch=6, LR=9.98e-6, Valid_Auroc=0.517, Valid_Loss=0.412]\n"
     ]
    },
    {
     "name": "stdout",
     "output_type": "stream",
     "text": [
      "\u001b[34mValidation AUROC Improved (0.5172725662039498 ---> 0.517430788184444)\n",
      "Model Saved\u001b[0m\n",
      "\n"
     ]
    },
    {
     "name": "stderr",
     "output_type": "stream",
     "text": [
      "100%|██████████| 19/19 [00:16<00:00,  1.18it/s, Epoch=7, LR=9.98e-6, Train_Auroc=0.958, Train_Loss=0.281]\n",
      "100%|██████████| 26/26 [00:12<00:00,  2.12it/s, Epoch=7, LR=9.98e-6, Valid_Auroc=0.518, Valid_Loss=0.276]\n"
     ]
    },
    {
     "name": "stdout",
     "output_type": "stream",
     "text": [
      "\u001b[34mValidation AUROC Improved (0.517430788184444 ---> 0.5175362695047735)\n",
      "Model Saved\u001b[0m\n",
      "\n"
     ]
    },
    {
     "name": "stderr",
     "output_type": "stream",
     "text": [
      "100%|██████████| 19/19 [00:16<00:00,  1.18it/s, Epoch=8, LR=9.97e-6, Train_Auroc=0.966, Train_Loss=0.251]\n",
      "100%|██████████| 26/26 [00:12<00:00,  2.12it/s, Epoch=8, LR=9.97e-6, Valid_Auroc=0.517, Valid_Loss=0.235]\n"
     ]
    },
    {
     "name": "stdout",
     "output_type": "stream",
     "text": [
      "\n"
     ]
    },
    {
     "name": "stderr",
     "output_type": "stream",
     "text": [
      "100%|██████████| 19/19 [00:16<00:00,  1.17it/s, Epoch=9, LR=9.96e-6, Train_Auroc=0.985, Train_Loss=0.162]\n",
      "100%|██████████| 26/26 [00:12<00:00,  2.14it/s, Epoch=9, LR=9.96e-6, Valid_Auroc=0.517, Valid_Loss=0.221]\n"
     ]
    },
    {
     "name": "stdout",
     "output_type": "stream",
     "text": [
      "\n"
     ]
    },
    {
     "name": "stderr",
     "output_type": "stream",
     "text": [
      "100%|██████████| 19/19 [00:16<00:00,  1.18it/s, Epoch=10, LR=9.95e-6, Train_Auroc=0.974, Train_Loss=0.225]\n",
      "100%|██████████| 26/26 [00:12<00:00,  2.10it/s, Epoch=10, LR=9.95e-6, Valid_Auroc=0.517, Valid_Loss=0.41]\n"
     ]
    },
    {
     "name": "stdout",
     "output_type": "stream",
     "text": [
      "\n"
     ]
    },
    {
     "name": "stderr",
     "output_type": "stream",
     "text": [
      "100%|██████████| 19/19 [00:16<00:00,  1.17it/s, Epoch=11, LR=9.94e-6, Train_Auroc=0.986, Train_Loss=0.191]\n",
      "100%|██████████| 26/26 [00:12<00:00,  2.11it/s, Epoch=11, LR=9.94e-6, Valid_Auroc=0.517, Valid_Loss=0.179]\n"
     ]
    },
    {
     "name": "stdout",
     "output_type": "stream",
     "text": [
      "\n"
     ]
    },
    {
     "name": "stderr",
     "output_type": "stream",
     "text": [
      "100%|██████████| 19/19 [00:16<00:00,  1.17it/s, Epoch=12, LR=9.93e-6, Train_Auroc=0.98, Train_Loss=0.211]\n",
      "100%|██████████| 26/26 [00:12<00:00,  2.13it/s, Epoch=12, LR=9.93e-6, Valid_Auroc=0.517, Valid_Loss=0.37]\n"
     ]
    },
    {
     "name": "stdout",
     "output_type": "stream",
     "text": [
      "\n"
     ]
    },
    {
     "name": "stderr",
     "output_type": "stream",
     "text": [
      "100%|██████████| 19/19 [00:16<00:00,  1.18it/s, Epoch=13, LR=9.92e-6, Train_Auroc=0.983, Train_Loss=0.192]\n",
      "100%|██████████| 26/26 [00:12<00:00,  2.14it/s, Epoch=13, LR=9.92e-6, Valid_Auroc=0.517, Valid_Loss=0.282]\n"
     ]
    },
    {
     "name": "stdout",
     "output_type": "stream",
     "text": [
      "\n"
     ]
    },
    {
     "name": "stderr",
     "output_type": "stream",
     "text": [
      "100%|██████████| 19/19 [00:16<00:00,  1.17it/s, Epoch=14, LR=9.91e-6, Train_Auroc=0.987, Train_Loss=0.163]\n",
      "100%|██████████| 26/26 [00:12<00:00,  2.14it/s, Epoch=14, LR=9.91e-6, Valid_Auroc=0.517, Valid_Loss=0.177]\n"
     ]
    },
    {
     "name": "stdout",
     "output_type": "stream",
     "text": [
      "\n"
     ]
    },
    {
     "name": "stderr",
     "output_type": "stream",
     "text": [
      "100%|██████████| 19/19 [00:16<00:00,  1.17it/s, Epoch=15, LR=9.89e-6, Train_Auroc=0.99, Train_Loss=0.139]\n",
      "100%|██████████| 26/26 [00:12<00:00,  2.10it/s, Epoch=15, LR=9.89e-6, Valid_Auroc=0.517, Valid_Loss=0.219]\n"
     ]
    },
    {
     "name": "stdout",
     "output_type": "stream",
     "text": [
      "\n"
     ]
    },
    {
     "name": "stderr",
     "output_type": "stream",
     "text": [
      "100%|██████████| 19/19 [00:16<00:00,  1.17it/s, Epoch=16, LR=9.88e-6, Train_Auroc=0.991, Train_Loss=0.151]\n",
      "100%|██████████| 26/26 [00:12<00:00,  2.13it/s, Epoch=16, LR=9.88e-6, Valid_Auroc=0.518, Valid_Loss=0.391]\n"
     ]
    },
    {
     "name": "stdout",
     "output_type": "stream",
     "text": [
      "\u001b[34mValidation AUROC Improved (0.5175362695047735 ---> 0.5176944914852677)\n",
      "Model Saved\u001b[0m\n",
      "\n"
     ]
    },
    {
     "name": "stderr",
     "output_type": "stream",
     "text": [
      "100%|██████████| 19/19 [00:16<00:00,  1.18it/s, Epoch=17, LR=9.86e-6, Train_Auroc=0.992, Train_Loss=0.116]\n",
      "100%|██████████| 26/26 [00:12<00:00,  2.13it/s, Epoch=17, LR=9.86e-6, Valid_Auroc=0.518, Valid_Loss=0.248]\n"
     ]
    },
    {
     "name": "stdout",
     "output_type": "stream",
     "text": [
      "\n"
     ]
    },
    {
     "name": "stderr",
     "output_type": "stream",
     "text": [
      "100%|██████████| 19/19 [00:16<00:00,  1.18it/s, Epoch=18, LR=9.85e-6, Train_Auroc=0.995, Train_Loss=0.115]\n",
      "100%|██████████| 26/26 [00:12<00:00,  2.12it/s, Epoch=18, LR=9.85e-6, Valid_Auroc=0.518, Valid_Loss=0.236]\n"
     ]
    },
    {
     "name": "stdout",
     "output_type": "stream",
     "text": [
      "\u001b[34mValidation AUROC Improved (0.5176944914852677 ---> 0.5179581947860913)\n",
      "Model Saved\u001b[0m\n",
      "\n"
     ]
    },
    {
     "name": "stderr",
     "output_type": "stream",
     "text": [
      "100%|██████████| 19/19 [00:16<00:00,  1.17it/s, Epoch=19, LR=9.83e-6, Train_Auroc=0.995, Train_Loss=0.103]\n",
      "100%|██████████| 26/26 [00:12<00:00,  2.05it/s, Epoch=19, LR=9.83e-6, Valid_Auroc=0.518, Valid_Loss=0.308]\n"
     ]
    },
    {
     "name": "stdout",
     "output_type": "stream",
     "text": [
      "\n"
     ]
    },
    {
     "name": "stderr",
     "output_type": "stream",
     "text": [
      "100%|██████████| 19/19 [00:16<00:00,  1.17it/s, Epoch=20, LR=9.81e-6, Train_Auroc=0.993, Train_Loss=0.0874]\n",
      "100%|██████████| 26/26 [00:12<00:00,  2.10it/s, Epoch=20, LR=9.81e-6, Valid_Auroc=0.518, Valid_Loss=0.342]\n"
     ]
    },
    {
     "name": "stdout",
     "output_type": "stream",
     "text": [
      "\u001b[34mValidation AUROC Improved (0.5179581947860913 ---> 0.518221898086915)\n",
      "Model Saved\u001b[0m\n",
      "\n",
      "Training complete in 0h 9m 50s\n",
      "Best AUROC: 0.5182\n"
     ]
    }
   ],
   "source": [
    "model, history = run_training(model, optimizer, scheduler,\n",
    "                              device=CONFIG['device'],\n",
    "                              num_epochs=CONFIG['epochs'])"
   ]
  },
  {
   "cell_type": "code",
   "execution_count": 23,
   "id": "6e2d536f",
   "metadata": {
    "execution": {
     "iopub.execute_input": "2024-08-06T01:21:48.724905Z",
     "iopub.status.busy": "2024-08-06T01:21:48.724488Z",
     "iopub.status.idle": "2024-08-06T01:21:48.734208Z",
     "shell.execute_reply": "2024-08-06T01:21:48.733343Z"
    },
    "papermill": {
     "duration": 0.208452,
     "end_time": "2024-08-06T01:21:48.736471",
     "exception": false,
     "start_time": "2024-08-06T01:21:48.528019",
     "status": "completed"
    },
    "tags": []
   },
   "outputs": [],
   "source": [
    "history = pd.DataFrame.from_dict(history)\n",
    "history.to_csv(\"history.csv\", index=False)"
   ]
  },
  {
   "cell_type": "markdown",
   "id": "b2d43118",
   "metadata": {
    "papermill": {
     "duration": 0.196453,
     "end_time": "2024-08-06T01:21:49.128290",
     "exception": false,
     "start_time": "2024-08-06T01:21:48.931837",
     "status": "completed"
    },
    "tags": []
   },
   "source": [
    "# <span><h1 style = \"font-family: garamond; font-size: 40px; font-style: normal; letter-spcaing: 3px; background-color: #f6f5f5; color :#fe346e; border-radius: 100px 100px; text-align:center\">Logs</h1></span>"
   ]
  },
  {
   "cell_type": "code",
   "execution_count": 24,
   "id": "0934a9d7",
   "metadata": {
    "execution": {
     "iopub.execute_input": "2024-08-06T01:21:49.524933Z",
     "iopub.status.busy": "2024-08-06T01:21:49.524147Z",
     "iopub.status.idle": "2024-08-06T01:21:49.857792Z",
     "shell.execute_reply": "2024-08-06T01:21:49.856712Z"
    },
    "papermill": {
     "duration": 0.535958,
     "end_time": "2024-08-06T01:21:49.860066",
     "exception": false,
     "start_time": "2024-08-06T01:21:49.324108",
     "status": "completed"
    },
    "tags": []
   },
   "outputs": [
    {
     "data": {
      "image/png": "[encoded data removed]",
      "text/plain": [
       "<Figure size 640x480 with 1 Axes>"
      ]
     },
     "metadata": {},
     "output_type": "display_data"
    }
   ],
   "source": [
    "plt.plot( range(history.shape[0]), history[\"Train Loss\"].values, label=\"Train Loss\")\n",
    "plt.plot( range(history.shape[0]), history[\"Valid Loss\"].values, label=\"Valid Loss\")\n",
    "plt.xlabel(\"epochs\")\n",
    "plt.ylabel(\"Loss\")\n",
    "plt.xlim(0, history.shape[0])\n",
    "plt.ylim(0, 1.0)\n",
    "plt.grid()\n",
    "plt.legend()\n",
    "plt.show()"
   ]
  },
  {
   "cell_type": "code",
   "execution_count": 25,
   "id": "485afffe",
   "metadata": {
    "execution": {
     "iopub.execute_input": "2024-08-06T01:21:50.252455Z",
     "iopub.status.busy": "2024-08-06T01:21:50.251668Z",
     "iopub.status.idle": "2024-08-06T01:21:50.560303Z",
     "shell.execute_reply": "2024-08-06T01:21:50.559194Z"
    },
    "papermill": {
     "duration": 0.508211,
     "end_time": "2024-08-06T01:21:50.562733",
     "exception": false,
     "start_time": "2024-08-06T01:21:50.054522",
     "status": "completed"
    },
    "tags": []
   },
   "outputs": [
    {
     "data": {
      "image/png": "[encoded data removed]",
      "text/plain": [
       "<Figure size 640x480 with 1 Axes>"
      ]
     },
     "metadata": {},
     "output_type": "display_data"
    }
   ],
   "source": [
    "plt.plot( range(history.shape[0]), history[\"Train AUROC\"].values, label=\"Train AUROC\")\n",
    "plt.plot( range(history.shape[0]), history[\"Valid AUROC\"].values, label=\"Valid AUROC\")\n",
    "plt.xlabel(\"epochs\")\n",
    "plt.ylabel(\"AUROC\")\n",
    "plt.xlim(0, history.shape[0])\n",
    "plt.ylim(0, 1.0)\n",
    "plt.grid()\n",
    "plt.legend()\n",
    "plt.show()"
   ]
  },
  {
   "cell_type": "code",
   "execution_count": 26,
   "id": "f54631d5",
   "metadata": {
    "execution": {
     "iopub.execute_input": "2024-08-06T01:21:51.021904Z",
     "iopub.status.busy": "2024-08-06T01:21:51.021205Z",
     "iopub.status.idle": "2024-08-06T01:21:51.342519Z",
     "shell.execute_reply": "2024-08-06T01:21:51.341573Z"
    },
    "papermill": {
     "duration": 0.522088,
     "end_time": "2024-08-06T01:21:51.345539",
     "exception": false,
     "start_time": "2024-08-06T01:21:50.823451",
     "status": "completed"
    },
    "tags": []
   },
   "outputs": [
    {
     "data": {
      "image/png": "[encoded data removed]",
      "text/plain": [
       "<Figure size 640x480 with 1 Axes>"
      ]
     },
     "metadata": {},
     "output_type": "display_data"
    }
   ],
   "source": [
    "plt.plot( range(history.shape[0]), history[\"lr\"].values, label=\"lr\")\n",
    "plt.xlabel(\"epochs\")\n",
    "plt.ylabel(\"lr\")\n",
    "plt.grid()\n",
    "plt.legend()\n",
    "plt.show()"
   ]
  },
  {
   "cell_type": "markdown",
   "id": "90e4e91f",
   "metadata": {
    "papermill": {
     "duration": 0.199068,
     "end_time": "2024-08-06T01:21:51.743678",
     "exception": false,
     "start_time": "2024-08-06T01:21:51.544610",
     "status": "completed"
    },
    "tags": []
   },
   "source": [
    "# Metrics"
   ]
  },
  {
   "cell_type": "code",
   "execution_count": 27,
   "id": "0dc7cdab",
   "metadata": {
    "execution": {
     "iopub.execute_input": "2024-08-06T01:21:52.143219Z",
     "iopub.status.busy": "2024-08-06T01:21:52.142229Z",
     "iopub.status.idle": "2024-08-06T01:22:05.243171Z",
     "shell.execute_reply": "2024-08-06T01:22:05.241707Z"
    },
    "papermill": {
     "duration": 13.303716,
     "end_time": "2024-08-06T01:22:05.245484",
     "exception": false,
     "start_time": "2024-08-06T01:21:51.941768",
     "status": "completed"
    },
    "tags": []
   },
   "outputs": [
    {
     "name": "stderr",
     "output_type": "stream",
     "text": [
      "100%|██████████| 26/26 [00:13<00:00,  1.99it/s]\n"
     ]
    }
   ],
   "source": [
    "# Validation data\n",
    "y_preds_valid = []\n",
    "y_trues_valid = []\n",
    "with torch.no_grad():\n",
    "    bar = tqdm(enumerate(valid_loader), total=len(valid_loader))\n",
    "    for step, data in bar:        \n",
    "        images = data['image'].to(CONFIG[\"device\"], dtype=torch.float)\n",
    "        y_trues_valid.append( data['target'].numpy() )\n",
    "        batch_size = images.size(0)\n",
    "        outputs = model(images)\n",
    "        y_preds_valid.append( outputs.detach().cpu().numpy() )\n",
    "y_preds_valid = np.concatenate(y_preds_valid).flatten()\n",
    "y_trues_valid = np.concatenate(y_trues_valid).flatten()"
   ]
  },
  {
   "cell_type": "code",
   "execution_count": 28,
   "id": "0cab8164",
   "metadata": {
    "execution": {
     "iopub.execute_input": "2024-08-06T01:22:05.647917Z",
     "iopub.status.busy": "2024-08-06T01:22:05.646961Z",
     "iopub.status.idle": "2024-08-06T01:22:10.727245Z",
     "shell.execute_reply": "2024-08-06T01:22:10.725778Z"
    },
    "papermill": {
     "duration": 5.283973,
     "end_time": "2024-08-06T01:22:10.729553",
     "exception": false,
     "start_time": "2024-08-06T01:22:05.445580",
     "status": "completed"
    },
    "tags": []
   },
   "outputs": [
    {
     "name": "stderr",
     "output_type": "stream",
     "text": [
      "100%|██████████| 19/19 [00:04<00:00,  3.81it/s]\n"
     ]
    }
   ],
   "source": [
    "# Training data\n",
    "del train_loader\n",
    "\n",
    "df_train = df[df.kfold != fold].reset_index(drop=True)\n",
    "train_dataset = ISICDataset_for_Train(df_train, HDF_FILE, transforms=data_transforms[\"train\"])\n",
    "train_loader = DataLoader(train_dataset, batch_size=CONFIG['train_batch_size'], num_workers=2, shuffle=True, pin_memory=True, drop_last=True)\n",
    "\n",
    "y_preds_train = []\n",
    "y_trues_train = []\n",
    "with torch.no_grad():\n",
    "    bar = tqdm(enumerate(train_loader), total=len(train_loader))\n",
    "    for step, data in bar:        \n",
    "        images = data['image'].to(CONFIG[\"device\"], dtype=torch.float)\n",
    "        y_trues_train.append( data['target'].numpy() )\n",
    "        batch_size = images.size(0)\n",
    "        outputs = model(images)\n",
    "        y_preds_train.append( outputs.detach().cpu().numpy() )\n",
    "y_preds_train = np.concatenate(y_preds_train).flatten()\n",
    "y_trues_train = np.concatenate(y_trues_train).flatten()"
   ]
  },
  {
   "cell_type": "code",
   "execution_count": 29,
   "id": "82faeaba",
   "metadata": {
    "execution": {
     "iopub.execute_input": "2024-08-06T01:22:11.127780Z",
     "iopub.status.busy": "2024-08-06T01:22:11.126922Z",
     "iopub.status.idle": "2024-08-06T01:22:11.449286Z",
     "shell.execute_reply": "2024-08-06T01:22:11.448108Z"
    },
    "papermill": {
     "duration": 0.522549,
     "end_time": "2024-08-06T01:22:11.451809",
     "exception": false,
     "start_time": "2024-08-06T01:22:10.929260",
     "status": "completed"
    },
    "tags": []
   },
   "outputs": [
    {
     "data": {
      "image/png": "[encoded data removed]",
      "text/plain": [
       "<Figure size 640x480 with 1 Axes>"
      ]
     },
     "metadata": {},
     "output_type": "display_data"
    }
   ],
   "source": [
    "fpr_valid, tpr_valid, thresholds_valid = roc_curve(y_trues_valid, y_preds_valid, drop_intermediate=False)\n",
    "fpr_train, tpr_train, thresholds_train = roc_curve(y_trues_train, y_preds_train, drop_intermediate=False)\n",
    "plt.plot(fpr_train, tpr_train, color=\"blue\", label=\"train\")\n",
    "plt.plot(fpr_valid, tpr_valid, color=\"red\", label=\"valid\")\n",
    "plt.plot([0, 1], [0.8, 0.8], color=\"green\", label=\"tpr=0.8\")\n",
    "plt.xlabel('FPR: False positive rate')\n",
    "plt.ylabel('TPR: True positive rate')\n",
    "plt.xlim(0, 1.02)\n",
    "plt.ylim(0, 1.02)\n",
    "plt.grid()\n",
    "plt.legend()\n",
    "plt.show()"
   ]
  },
  {
   "cell_type": "code",
   "execution_count": null,
   "id": "14fa3768",
   "metadata": {
    "papermill": {
     "duration": 0.199433,
     "end_time": "2024-08-06T01:22:11.855195",
     "exception": false,
     "start_time": "2024-08-06T01:22:11.655762",
     "status": "completed"
    },
    "tags": []
   },
   "outputs": [],
   "source": []
  }
 ],
 "metadata": {
  "kaggle": {
   "accelerator": "gpu",
   "dataSources": [
    {
     "databundleVersionId": 9094797,
     "sourceId": 63056,
     "sourceType": "competition"
    },
    {
     "modelId": 312,
     "modelInstanceId": 2656,
     "sourceId": 3729,
     "sourceType": "modelInstanceVersion"
    }
   ],
   "isGpuEnabled": true,
   "isInternetEnabled": true,
   "language": "python",
   "sourceType": "notebook"
  },
  "kernelspec": {
   "display_name": "Python 3",
   "language": "python",
   "name": "python3"
  },
  "language_info": {
   "codemirror_mode": {
    "name": "ipython",
    "version": 3
   },
   "file_extension": ".py",
   "mimetype": "text/x-python",
   "name": "python",
   "nbconvert_exporter": "python",
   "pygments_lexer": "ipython3",
   "version": "3.10.13"
  },
  "papermill": {
   "default_parameters": {},
   "duration": 659.694174,
   "end_time": "2024-08-06T01:22:15.127790",
   "environment_variables": {},
   "exception": null,
   "input_path": "__notebook__.ipynb",
   "output_path": "__notebook__.ipynb",
   "parameters": {},
   "start_time": "2024-08-06T01:11:15.433616",
   "version": "2.5.0"
  },
  "widgets": {
   "application/vnd.jupyter.widget-state+json": {
    "state": {
     "13d116e3a24e45a18d45a6aab0ada225": {
      "model_module": "@jupyter-widgets/controls",
      "model_module_version": "1.5.0",
      "model_name": "HTMLModel",
      "state": {
       "_dom_classes": [],
       "_model_module": "@jupyter-widgets/controls",
       "_model_module_version": "1.5.0",
       "_model_name": "HTMLModel",
       "_view_count": null,
       "_view_module": "@jupyter-widgets/controls",
       "_view_module_version": "1.5.0",
       "_view_name": "HTMLView",
       "description": "",
       "description_tooltip": null,
       "layout": "IPY_MODEL_5531283bead24d2fa85947db6eaa86b3",
       "placeholder": "​",
       "style": "IPY_MODEL_e00add9960f2430facbf36bf4128af02",
       "value": " 88.5M/88.5M [00:02&lt;00:00, 36.6MB/s]"
      }
     },
     "4222e37f220c4450958ed13794e9cebd": {
      "model_module": "@jupyter-widgets/controls",
      "model_module_version": "1.5.0",
      "model_name": "FloatProgressModel",
      "state": {
       "_dom_classes": [],
       "_model_module": "@jupyter-widgets/controls",
       "_model_module_version": "1.5.0",
       "_model_name": "FloatProgressModel",
       "_view_count": null,
       "_view_module": "@jupyter-widgets/controls",
       "_view_module_version": "1.5.0",
       "_view_name": "ProgressView",
       "bar_style": "success",
       "description": "",
       "description_tooltip": null,
       "layout": "IPY_MODEL_812be9673e7b4364a19e7cada30db59b",
       "max": 88530864.0,
       "min": 0.0,
       "orientation": "horizontal",
       "style": "IPY_MODEL_63cdeb7b956043958bf954234f059dcc",
       "value": 88530864.0
      }
     },
     "5531283bead24d2fa85947db6eaa86b3": {
      "model_module": "@jupyter-widgets/base",
      "model_module_version": "1.2.0",
      "model_name": "LayoutModel",
      "state": {
       "_model_module": "@jupyter-widgets/base",
       "_model_module_version": "1.2.0",
       "_model_name": "LayoutModel",
       "_view_count": null,
       "_view_module": "@jupyter-widgets/base",
       "_view_module_version": "1.2.0",
       "_view_name": "LayoutView",
       "align_content": null,
       "align_items": null,
       "align_self": null,
       "border": null,
       "bottom": null,
       "display": null,
       "flex": null,
       "flex_flow": null,
       "grid_area": null,
       "grid_auto_columns": null,
       "grid_auto_flow": null,
       "grid_auto_rows": null,
       "grid_column": null,
       "grid_gap": null,
       "grid_row": null,
       "grid_template_areas": null,
       "grid_template_columns": null,
       "grid_template_rows": null,
       "height": null,
       "justify_content": null,
       "justify_items": null,
       "left": null,
       "margin": null,
       "max_height": null,
       "max_width": null,
       "min_height": null,
       "min_width": null,
       "object_fit": null,
       "object_position": null,
       "order": null,
       "overflow": null,
       "overflow_x": null,
       "overflow_y": null,
       "padding": null,
       "right": null,
       "top": null,
       "visibility": null,
       "width": null
      }
     },
     "63cdeb7b956043958bf954234f059dcc": {
      "model_module": "@jupyter-widgets/controls",
      "model_module_version": "1.5.0",
      "model_name": "ProgressStyleModel",
      "state": {
       "_model_module": "@jupyter-widgets/controls",
       "_model_module_version": "1.5.0",
       "_model_name": "ProgressStyleModel",
       "_view_count": null,
       "_view_module": "@jupyter-widgets/base",
       "_view_module_version": "1.2.0",
       "_view_name": "StyleView",
       "bar_color": null,
       "description_width": ""
      }
     },
     "812be9673e7b4364a19e7cada30db59b": {
      "model_module": "@jupyter-widgets/base",
      "model_module_version": "1.2.0",
      "model_name": "LayoutModel",
      "state": {
       "_model_module": "@jupyter-widgets/base",
       "_model_module_version": "1.2.0",
       "_model_name": "LayoutModel",
       "_view_count": null,
       "_view_module": "@jupyter-widgets/base",
       "_view_module_version": "1.2.0",
       "_view_name": "LayoutView",
       "align_content": null,
       "align_items": null,
       "align_self": null,
       "border": null,
       "bottom": null,
       "display": null,
       "flex": null,
       "flex_flow": null,
       "grid_area": null,
       "grid_auto_columns": null,
       "grid_auto_flow": null,
       "grid_auto_rows": null,
       "grid_column": null,
       "grid_gap": null,
       "grid_row": null,
       "grid_template_areas": null,
       "grid_template_columns": null,
       "grid_template_rows": null,
       "height": null,
       "justify_content": null,
       "justify_items": null,
       "left": null,
       "margin": null,
       "max_height": null,
       "max_width": null,
       "min_height": null,
       "min_width": null,
       "object_fit": null,
       "object_position": null,
       "order": null,
       "overflow": null,
       "overflow_x": null,
       "overflow_y": null,
       "padding": null,
       "right": null,
       "top": null,
       "visibility": null,
       "width": null
      }
     },
     "8f8732cf3ce14d839c644fb12ce1e4f2": {
      "model_module": "@jupyter-widgets/controls",
      "model_module_version": "1.5.0",
      "model_name": "HTMLModel",
      "state": {
       "_dom_classes": [],
       "_model_module": "@jupyter-widgets/controls",
       "_model_module_version": "1.5.0",
       "_model_name": "HTMLModel",
       "_view_count": null,
       "_view_module": "@jupyter-widgets/controls",
       "_view_module_version": "1.5.0",
       "_view_name": "HTMLView",
       "description": "",
       "description_tooltip": null,
       "layout": "IPY_MODEL_ca747efa86b54ca18a7bff9ee5ca88a7",
       "placeholder": "​",
       "style": "IPY_MODEL_c1d14f4ead17446397215ef76b3e6273",
       "value": "model.safetensors: 100%"
      }
     },
     "a0e5736452a14636a82a7f167eb60118": {
      "model_module": "@jupyter-widgets/base",
      "model_module_version": "1.2.0",
      "model_name": "LayoutModel",
      "state": {
       "_model_module": "@jupyter-widgets/base",
       "_model_module_version": "1.2.0",
       "_model_name": "LayoutModel",
       "_view_count": null,
       "_view_module": "@jupyter-widgets/base",
       "_view_module_version": "1.2.0",
       "_view_name": "LayoutView",
       "align_content": null,
       "align_items": null,
       "align_self": null,
       "border": null,
       "bottom": null,
       "display": null,
       "flex": null,
       "flex_flow": null,
       "grid_area": null,
       "grid_auto_columns": null,
       "grid_auto_flow": null,
       "grid_auto_rows": null,
       "grid_column": null,
       "grid_gap": null,
       "grid_row": null,
       "grid_template_areas": null,
       "grid_template_columns": null,
       "grid_template_rows": null,
       "height": null,
       "justify_content": null,
       "justify_items": null,
       "left": null,
       "margin": null,
       "max_height": null,
       "max_width": null,
       "min_height": null,
       "min_width": null,
       "object_fit": null,
       "object_position": null,
       "order": null,
       "overflow": null,
       "overflow_x": null,
       "overflow_y": null,
       "padding": null,
       "right": null,
       "top": null,
       "visibility": null,
       "width": null
      }
     },
     "a4b8254695eb4144a497c2162c09a803": {
      "model_module": "@jupyter-widgets/controls",
      "model_module_version": "1.5.0",
      "model_name": "HBoxModel",
      "state": {
       "_dom_classes": [],
       "_model_module": "@jupyter-widgets/controls",
       "_model_module_version": "1.5.0",
       "_model_name": "HBoxModel",
       "_view_count": null,
       "_view_module": "@jupyter-widgets/controls",
       "_view_module_version": "1.5.0",
       "_view_name": "HBoxView",
       "box_style": "",
       "children": [
        "IPY_MODEL_8f8732cf3ce14d839c644fb12ce1e4f2",
        "IPY_MODEL_4222e37f220c4450958ed13794e9cebd",
        "IPY_MODEL_13d116e3a24e45a18d45a6aab0ada225"
       ],
       "layout": "IPY_MODEL_a0e5736452a14636a82a7f167eb60118"
      }
     },
     "c1d14f4ead17446397215ef76b3e6273": {
      "model_module": "@jupyter-widgets/controls",
      "model_module_version": "1.5.0",
      "model_name": "DescriptionStyleModel",
      "state": {
       "_model_module": "@jupyter-widgets/controls",
       "_model_module_version": "1.5.0",
       "_model_name": "DescriptionStyleModel",
       "_view_count": null,
       "_view_module": "@jupyter-widgets/base",
       "_view_module_version": "1.2.0",
       "_view_name": "StyleView",
       "description_width": ""
      }
     },
     "ca747efa86b54ca18a7bff9ee5ca88a7": {
      "model_module": "@jupyter-widgets/base",
      "model_module_version": "1.2.0",
      "model_name": "LayoutModel",
      "state": {
       "_model_module": "@jupyter-widgets/base",
       "_model_module_version": "1.2.0",
       "_model_name": "LayoutModel",
       "_view_count": null,
       "_view_module": "@jupyter-widgets/base",
       "_view_module_version": "1.2.0",
       "_view_name": "LayoutView",
       "align_content": null,
       "align_items": null,
       "align_self": null,
       "border": null,
       "bottom": null,
       "display": null,
       "flex": null,
       "flex_flow": null,
       "grid_area": null,
       "grid_auto_columns": null,
       "grid_auto_flow": null,
       "grid_auto_rows": null,
       "grid_column": null,
       "grid_gap": null,
       "grid_row": null,
       "grid_template_areas": null,
       "grid_template_columns": null,
       "grid_template_rows": null,
       "height": null,
       "justify_content": null,
       "justify_items": null,
       "left": null,
       "margin": null,
       "max_height": null,
       "max_width": null,
       "min_height": null,
       "min_width": null,
       "object_fit": null,
       "object_position": null,
       "order": null,
       "overflow": null,
       "overflow_x": null,
       "overflow_y": null,
       "padding": null,
       "right": null,
       "top": null,
       "visibility": null,
       "width": null
      }
     },
     "e00add9960f2430facbf36bf4128af02": {
      "model_module": "@jupyter-widgets/controls",
      "model_module_version": "1.5.0",
      "model_name": "DescriptionStyleModel",
      "state": {
       "_model_module": "@jupyter-widgets/controls",
       "_model_module_version": "1.5.0",
       "_model_name": "DescriptionStyleModel",
       "_view_count": null,
       "_view_module": "@jupyter-widgets/base",
       "_view_module_version": "1.2.0",
       "_view_name": "StyleView",
       "description_width": ""
      }
     }
    },
    "version_major": 2,
    "version_minor": 0
   }
  }
 },
 "nbformat": 4,
 "nbformat_minor": 5
}
